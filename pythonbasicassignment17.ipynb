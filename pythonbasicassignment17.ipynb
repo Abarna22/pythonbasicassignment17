{
 "cells": [
  {
   "cell_type": "code",
   "execution_count": 3,
   "id": "2915fd67",
   "metadata": {},
   "outputs": [
    {
     "name": "stdout",
     "output_type": "stream",
     "text": [
      "a:1\n",
      "b:10\n",
      "c:2\n",
      "30\n"
     ]
    }
   ],
   "source": [
    "#qp1\n",
    "\n",
    "def evenly_divisible(a,b,c):\n",
    "    s=0\n",
    "    for i in range(a,b+1):\n",
    "        if i%c==0:\n",
    "            s+=i\n",
    "    return s\n",
    "a1=int(input(\"a:\"))\n",
    "b1=int(input(\"b:\"))\n",
    "c1=int(input(\"c:\"))\n",
    "print(evenly_divisible(a1,b1,c1))\n",
    "            "
   ]
  },
  {
   "cell_type": "code",
   "execution_count": 7,
   "id": "62bd2412",
   "metadata": {},
   "outputs": [
    {
     "name": "stdout",
     "output_type": "stream",
     "text": [
      "True\n",
      "False\n",
      "True\n"
     ]
    }
   ],
   "source": [
    "#qp2\n",
    "def correct_signs(s):\n",
    "    r=eval(s)\n",
    "    if r:\n",
    "        return True\n",
    "    else:\n",
    "        return False\n",
    "    \n",
    "print(correct_signs(\"3<7<11\"))\n",
    "print(correct_signs(\"3>44>55>63\"))\n",
    "print(correct_signs(\"1<2<3>2<4\"))\n",
    "    \n",
    "        "
   ]
  },
  {
   "cell_type": "code",
   "execution_count": 15,
   "id": "a0e3e1dd",
   "metadata": {},
   "outputs": [
    {
     "name": "stdout",
     "output_type": "stream",
     "text": [
      "Enter the string:the aardvark\n",
      "Enter the char:#\n",
      "New String: th# ##rdv#rk\n"
     ]
    }
   ],
   "source": [
    "#qp3\n",
    "def replace_vowels(ns,ch):\n",
    "    ns=\"\"\n",
    "\n",
    "    for i in range(len(st)):\n",
    "        if st[i]=='a' or st[i]=='e' or st[i]=='i' or st[i]=='o' or st[i]=='u' or st[i]=='A' or st[i]=='E' or st[i]=='I' or st[i]=='O' or st[i]=='U':\n",
    "            ns=ns+ch\n",
    "        else:\n",
    "            ns=ns+st[i]\n",
    "    return ns\n",
    "s=input(\"Enter the string:\")\n",
    "ch=input(\"Enter the char:\")\n",
    "print(\"New String:\", replace_vowels(s,ch))"
   ]
  },
  {
   "cell_type": "code",
   "execution_count": 16,
   "id": "bee8a233",
   "metadata": {},
   "outputs": [
    {
     "name": "stdout",
     "output_type": "stream",
     "text": [
      "Factorial of 5 is 120\n"
     ]
    }
   ],
   "source": [
    "#qp4\n",
    "\n",
    "def factorial(n):\n",
    "      \n",
    "    if n == 0:\n",
    "        return 1\n",
    "    else:\n",
    "        return n * factorial(n-1)\n",
    "\n",
    "num = 5\n",
    "print(\"Factorial of\", num, \"is\",factorial(num))"
   ]
  },
  {
   "cell_type": "code",
   "execution_count": 17,
   "id": "e0aa82b8",
   "metadata": {},
   "outputs": [
    {
     "name": "stdout",
     "output_type": "stream",
     "text": [
      "1st string:abcde\n",
      "2nd string:bcdef\n",
      "5\n"
     ]
    }
   ],
   "source": [
    "#qp5\n",
    "\n",
    "def hammingDist(str1, str2):\n",
    "    i = 0\n",
    "    count = 0\n",
    " \n",
    "    while(i < len(str1)):\n",
    "        if(str1[i] != str2[i]):\n",
    "            count += 1\n",
    "        i += 1\n",
    "    return count\n",
    " \n",
    "str1=input(\"1st string:\")\n",
    "str2=input(\"2nd string:\")\n",
    "print(hammingDist(str1, str2))"
   ]
  },
  {
   "cell_type": "code",
   "execution_count": null,
   "id": "02baa75d",
   "metadata": {},
   "outputs": [],
   "source": []
  }
 ],
 "metadata": {
  "kernelspec": {
   "display_name": "Python 3 (ipykernel)",
   "language": "python",
   "name": "python3"
  },
  "language_info": {
   "codemirror_mode": {
    "name": "ipython",
    "version": 3
   },
   "file_extension": ".py",
   "mimetype": "text/x-python",
   "name": "python",
   "nbconvert_exporter": "python",
   "pygments_lexer": "ipython3",
   "version": "3.9.12"
  }
 },
 "nbformat": 4,
 "nbformat_minor": 5
}
